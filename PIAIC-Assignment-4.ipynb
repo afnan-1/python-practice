{
 "cells": [
  {
   "cell_type": "markdown",
   "metadata": {},
   "source": [
    "# Assignment 1"
   ]
  },
  {
   "cell_type": "code",
   "execution_count": 21,
   "metadata": {},
   "outputs": [
    {
     "name": "stdout",
     "output_type": "stream",
     "text": [
      "Enter your nameafnan\n",
      "enter your age12\n",
      "Enter where you workai,ai\n",
      "What your skills Seperated by commaa'sai,ai\n",
      "Whats your degree title major and completionData seperated by commasai,ai,ai\n",
      "enter your salery12\n",
      "Enter your nameafna\n",
      "enter your age22\n",
      "Enter where you workasd\n",
      "What your skills Seperated by commaa'sasdasd\n",
      "Whats your degree title major and completionData seperated by commasasd,asdas,sada\n",
      "enter your salery12\n",
      "Enter your nameasd\n",
      "enter your age12\n",
      "Enter where you workasd\n",
      "What your skills Seperated by commaa'sasd,asd,asd\n",
      "Whats your degree title major and completionData seperated by commasasd,asd,asd\n",
      "enter your salery123\n"
     ]
    },
    {
     "data": {
      "text/plain": [
       "[{'name': 'afnan',\n",
       "  'age': 12,\n",
       "  'work': 'ai,ai',\n",
       "  'skills': ['ai', 'ai'],\n",
       "  'degree': {'title': 'ai', 'major': 'ai', 'completionDate': 'ai'},\n",
       "  'salary': 12},\n",
       " {'name': 'afna',\n",
       "  'age': 22,\n",
       "  'work': 'asd',\n",
       "  'skills': ['asdasd'],\n",
       "  'degree': {'title': 'asd', 'major': 'asdas', 'completionDate': 'sada'},\n",
       "  'salary': 12},\n",
       " {'name': 'asd',\n",
       "  'age': 12,\n",
       "  'work': 'asd',\n",
       "  'skills': ['asd', 'asd', 'asd'],\n",
       "  'degree': {'title': 'asd', 'major': 'asd', 'completionDate': 'asd'},\n",
       "  'salary': 123}]"
      ]
     },
     "execution_count": 21,
     "metadata": {},
     "output_type": "execute_result"
    }
   ],
   "source": [
    "\n",
    "name = input(\"Enter your name\")\n",
    "age = int(input(\"enter your age\"))\n",
    "work = input(\"Enter where you work\")\n",
    "skills = input(\"What your skills Seperated by commaa's\").split(\",\")\n",
    "degree = input(\"Whats your degree title major and completionData seperated by commas\").split(\",\")\n",
    "salery = int(input(\"enter your salery\"))\n",
    "name1 = input(\"Enter your name\")\n",
    "age1 = int(input(\"enter your age\"))\n",
    "work1 = input(\"Enter where you work\")\n",
    "skills1 = input(\"What your skills Seperated by commaa's\").split(\",\")\n",
    "degree1 = input(\"Whats your degree title major and completionData seperated by commas\").split(\",\")\n",
    "salery1 = int(input(\"enter your salery\"))\n",
    "name2 = input(\"Enter your name\")\n",
    "age2 = int(input(\"enter your age\"))\n",
    "work2 = input(\"Enter where you work\")\n",
    "skills2 = input(\"What your skills Seperated by commaa's\").split(\",\")\n",
    "degree2= input(\"Whats your degree title major and completionData seperated by commas\").split(\",\")\n",
    "salery2 = int(input(\"enter your salery\"))\n",
    "lis = [\n",
    "    {\"name\" : name,\n",
    "     \"age\"  : age,\n",
    "     \"work\" : work,\n",
    "     \"skills\" : skills,\n",
    "     \"degree\" : {\"title\" : degree[0], \"major\" : degree[1], \"completionDate\" : degree[2]},\n",
    "     \"salary\" : salery\n",
    "},\n",
    "    {\"name\" : name1,\n",
    "     \"age\"  : age1,\n",
    "     \"work\" : work1,\n",
    "     \"skills\" : skills1,\n",
    "     \"degree\" : {\"title\" : degree1[0], \"major\" : degree1[1], \"completionDate\" : degree1[2]},\n",
    "     \"salary\" : salery1\n",
    "},\n",
    "    {\"name\" : name2,\n",
    "     \"age\"  : age2,\n",
    "     \"work\" : work2,\n",
    "     \"skills\" : skills2,\n",
    "     \"degree\" : {\"title\" : degree2[0], \"major\" : degree2[1], \"completionDate\" : degree2[2]},\n",
    "     \"salary\" : salery2\n",
    "}\n",
    "]\n",
    "lis"
   ]
  },
  {
   "cell_type": "markdown",
   "metadata": {},
   "source": [
    "# Assignment 2"
   ]
  },
  {
   "cell_type": "code",
   "execution_count": 1,
   "metadata": {},
   "outputs": [
    {
     "name": "stdout",
     "output_type": "stream",
     "text": [
      "Enter the number seperated by comma 5,10\n"
     ]
    }
   ],
   "source": [
    "num1,num2 = input(\"Enter the number seperated by comma \").split(\",\")\n",
    "num1 = int(num1)\n",
    "num2 = int(num2)"
   ]
  },
  {
   "cell_type": "code",
   "execution_count": 2,
   "metadata": {},
   "outputs": [
    {
     "name": "stdout",
     "output_type": "stream",
     "text": [
      "1 x 5 = 5\n",
      "2 x 5 = 10\n",
      "3 x 5 = 15\n",
      "4 x 5 = 20\n",
      "5 x 5 = 25\n",
      "6 x 5 = 30\n",
      "7 x 5 = 35\n",
      "8 x 5 = 40\n",
      "9 x 5 = 45\n",
      "10 x 5 = 50\n",
      "\n",
      "1 x 6 = 6\n",
      "2 x 6 = 12\n",
      "3 x 6 = 18\n",
      "4 x 6 = 24\n",
      "5 x 6 = 30\n",
      "6 x 6 = 36\n",
      "7 x 6 = 42\n",
      "8 x 6 = 48\n",
      "9 x 6 = 54\n",
      "10 x 6 = 60\n",
      "\n",
      "1 x 7 = 7\n",
      "2 x 7 = 14\n",
      "3 x 7 = 21\n",
      "4 x 7 = 28\n",
      "5 x 7 = 35\n",
      "6 x 7 = 42\n",
      "7 x 7 = 49\n",
      "8 x 7 = 56\n",
      "9 x 7 = 63\n",
      "10 x 7 = 70\n",
      "\n",
      "1 x 8 = 8\n",
      "2 x 8 = 16\n",
      "3 x 8 = 24\n",
      "4 x 8 = 32\n",
      "5 x 8 = 40\n",
      "6 x 8 = 48\n",
      "7 x 8 = 56\n",
      "8 x 8 = 64\n",
      "9 x 8 = 72\n",
      "10 x 8 = 80\n",
      "\n",
      "1 x 9 = 9\n",
      "2 x 9 = 18\n",
      "3 x 9 = 27\n",
      "4 x 9 = 36\n",
      "5 x 9 = 45\n",
      "6 x 9 = 54\n",
      "7 x 9 = 63\n",
      "8 x 9 = 72\n",
      "9 x 9 = 81\n",
      "10 x 9 = 90\n",
      "\n",
      "1 x 10 = 10\n",
      "2 x 10 = 20\n",
      "3 x 10 = 30\n",
      "4 x 10 = 40\n",
      "5 x 10 = 50\n",
      "6 x 10 = 60\n",
      "7 x 10 = 70\n",
      "8 x 10 = 80\n",
      "9 x 10 = 90\n",
      "10 x 10 = 100\n",
      "\n"
     ]
    }
   ],
   "source": [
    "for i in range(num1,num2+1):\n",
    "    standard_counting = 1\n",
    "    for j in range(10):\n",
    "        print(f\"{standard_counting} x {i} = {standard_counting*i}\")\n",
    "        standard_counting+=1\n",
    "    print(\"\")"
   ]
  },
  {
   "cell_type": "code",
   "execution_count": 11,
   "metadata": {},
   "outputs": [
    {
     "name": "stdout",
     "output_type": "stream",
     "text": [
      "5 x 1 = 5\t6 x 1 = 5\t7 x 1 = 5\t8 x 1 = 5\t9 x 1 = 5\t10 x 1 = 5\t\n",
      "5 x 2 = 10\t6 x 2 = 10\t7 x 2 = 10\t8 x 2 = 10\t9 x 2 = 10\t10 x 2 = 10\t\n",
      "5 x 3 = 15\t6 x 3 = 15\t7 x 3 = 15\t8 x 3 = 15\t9 x 3 = 15\t10 x 3 = 15\t\n",
      "5 x 4 = 20\t6 x 4 = 20\t7 x 4 = 20\t8 x 4 = 20\t9 x 4 = 20\t10 x 4 = 20\t\n",
      "5 x 5 = 25\t6 x 5 = 25\t7 x 5 = 25\t8 x 5 = 25\t9 x 5 = 25\t10 x 5 = 25\t\n",
      "5 x 6 = 30\t6 x 6 = 30\t7 x 6 = 30\t8 x 6 = 30\t9 x 6 = 30\t10 x 6 = 30\t\n",
      "5 x 7 = 35\t6 x 7 = 35\t7 x 7 = 35\t8 x 7 = 35\t9 x 7 = 35\t10 x 7 = 35\t\n",
      "5 x 8 = 40\t6 x 8 = 40\t7 x 8 = 40\t8 x 8 = 40\t9 x 8 = 40\t10 x 8 = 40\t\n",
      "5 x 9 = 45\t6 x 9 = 45\t7 x 9 = 45\t8 x 9 = 45\t9 x 9 = 45\t10 x 9 = 45\t\n",
      "5 x 10 = 50\t6 x 10 = 50\t7 x 10 = 50\t8 x 10 = 50\t9 x 10 = 50\t10 x 10 = 50\t\n"
     ]
    }
   ],
   "source": [
    "standard_counting=1\n",
    "for i in range(10):\n",
    "    for j in range(num1,num2+1):\n",
    "        print(f\"{j} x {standard_counting} = {num1*standard_counting}\",end='\\t')\n",
    "    standard_counting+=1\n",
    "    print(\"\")"
   ]
  },
  {
   "cell_type": "code",
   "execution_count": null,
   "metadata": {},
   "outputs": [],
   "source": []
  },
  {
   "cell_type": "code",
   "execution_count": null,
   "metadata": {},
   "outputs": [],
   "source": []
  }
 ],
 "metadata": {
  "kernelspec": {
   "display_name": "Python 3",
   "language": "python",
   "name": "python3"
  },
  "language_info": {
   "codemirror_mode": {
    "name": "ipython",
    "version": 3
   },
   "file_extension": ".py",
   "mimetype": "text/x-python",
   "name": "python",
   "nbconvert_exporter": "python",
   "pygments_lexer": "ipython3",
   "version": "3.7.4"
  }
 },
 "nbformat": 4,
 "nbformat_minor": 2
}
