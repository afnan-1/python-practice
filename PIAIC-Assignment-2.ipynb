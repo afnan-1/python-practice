{
 "cells": [
  {
   "cell_type": "code",
   "execution_count": 1,
   "metadata": {},
   "outputs": [
    {
     "name": "stdout",
     "output_type": "stream",
     "text": [
      "Area of the circle is 78.5\n"
     ]
    }
   ],
   "source": [
    "PI = 3.14\n",
    "r = 5\n",
    "area = PI * r * r\n",
    "print(\"Area of the circle is\",area)"
   ]
  },
  {
   "cell_type": "code",
   "execution_count": 2,
   "metadata": {},
   "outputs": [
    {
     "name": "stdout",
     "output_type": "stream",
     "text": [
      "cities ['Faislabad', 'Islamabad', 'Karachi', 'Lahore', 'Queta']\n",
      "result is [93.4, 95, 98.7, 87.4, 83.02]\n",
      "score is [45, 70, 54, 90, 42]\n"
     ]
    }
   ],
   "source": [
    "cities = ['Faislabad','Islamabad','Karachi','Lahore','Queta']\n",
    "result = [93.4, 95, 98.7, 87.4, 83.02]\n",
    "score = [45, 70, 54, 90, 42]\n",
    "print(f\"cities {cities}\\nresult is {result}\\nscore is {score}\")"
   ]
  },
  {
   "cell_type": "code",
   "execution_count": null,
   "metadata": {},
   "outputs": [],
   "source": []
  }
 ],
 "metadata": {
  "kernelspec": {
   "display_name": "Python 3",
   "language": "python",
   "name": "python3"
  },
  "language_info": {
   "codemirror_mode": {
    "name": "ipython",
    "version": 3
   },
   "file_extension": ".py",
   "mimetype": "text/x-python",
   "name": "python",
   "nbconvert_exporter": "python",
   "pygments_lexer": "ipython3",
   "version": "3.7.4"
  }
 },
 "nbformat": 4,
 "nbformat_minor": 2
}
