{
 "cells": [
  {
   "cell_type": "markdown",
   "metadata": {},
   "source": [
    "#  Area of circle"
   ]
  },
  {
   "cell_type": "code",
   "execution_count": 2,
   "metadata": {},
   "outputs": [
    {
     "name": "stdout",
     "output_type": "stream",
     "text": [
      "Area of the circle is 237.66659999999996\n",
      "Area of the circle is 265.76959999999997\n",
      "Area of the circle is 806.8572260000001\n"
     ]
    }
   ],
   "source": [
    "def calcArea(r,pi):\n",
    "    area = pi * r * r\n",
    "    return area\n",
    "print(\"Area of the circle is\",calcArea(8.7,pi=3.14))\n",
    "print(\"Area of the circle is\",calcArea(9.2,pi=3.14))\n",
    "print(\"Area of the circle is\",calcArea(16.03,pi=3.14))"
   ]
  },
  {
   "cell_type": "markdown",
   "metadata": {},
   "source": [
    "# 2. Write function to check if a value exists in a list"
   ]
  },
  {
   "cell_type": "code",
   "execution_count": 2,
   "metadata": {},
   "outputs": [
    {
     "name": "stdout",
     "output_type": "stream",
     "text": [
      "Found python at index 0\n",
      "Found html at index 7\n",
      "Found c at index 4\n"
     ]
    }
   ],
   "source": [
    "def checkVal(lst,find):\n",
    "    j=0\n",
    "    for i in lst:\n",
    "        if i==find:\n",
    "            print(f\"Found {i} at index {j}\"  )\n",
    "        j+=1\n",
    "data = [\"python\", \"r\", \"java\", \"pascal\", \"c\", \"javascript\", \"assembley\", \"html\", \"c++\"]\n",
    "checkVal(data,'python')\n",
    "checkVal(data,'html')\n",
    "checkVal(data,'c')"
   ]
  },
  {
   "cell_type": "markdown",
   "metadata": {},
   "source": [
    "# 3. Write a function to shift list item to right n times"
   ]
  },
  {
   "cell_type": "code",
   "execution_count": 3,
   "metadata": {},
   "outputs": [
    {
     "name": "stdout",
     "output_type": "stream",
     "text": [
      "['assembley', 'html', 'c++', 'python', 'r', 'java', 'pascal', 'c', 'javascript']\n",
      "['javascript', 'assembley', 'html', 'c++', 'python', 'r', 'java', 'pascal', 'c']\n"
     ]
    }
   ],
   "source": [
    "def shiftItems(ListName,n):\n",
    "    for i in range(n):\n",
    "        ListName.insert(0,ListName[-1])\n",
    "        ListName.pop()\n",
    "    return ListName\n",
    "data = [\"python\", \"r\", \"java\", \"pascal\", \"c\", \"javascript\", \"assembley\", \"html\", \"c++\"]\n",
    "n=3\n",
    "print(shiftItems(data,n))\n",
    "n=1\n",
    "print(shiftItems(data,n))"
   ]
  },
  {
   "cell_type": "markdown",
   "metadata": {},
   "source": [
    "# 4. Use while loop to get data"
   ]
  },
  {
   "cell_type": "code",
   "execution_count": 3,
   "metadata": {},
   "outputs": [
    {
     "name": "stdout",
     "output_type": "stream",
     "text": [
      "Enter the radius1\n",
      "3.14\n",
      "Enter the radiusquit\n"
     ]
    }
   ],
   "source": [
    "while True:\n",
    "    radius = input(\"Enter the radius\")\n",
    "    if radius=='quit':\n",
    "        break\n",
    "    radius=float(radius)\n",
    "    print(calcArea(radius,pi=3.14))"
   ]
  },
  {
   "cell_type": "markdown",
   "metadata": {},
   "source": [
    "# 5. Function with **kwargs:"
   ]
  },
  {
   "cell_type": "code",
   "execution_count": 44,
   "metadata": {},
   "outputs": [
    {
     "name": "stdout",
     "output_type": "stream",
     "text": [
      "Hello Ali\n",
      "Here is your result for class of AI.\n",
      "Your score card is as follows\n",
      "Class Marks:\n",
      "\tmath:50\n",
      "\tphysics:80\n",
      "\tbiology:90\n",
      "\tcomputer:67\n",
      "Total marks are: 287\n",
      "Percentage is as follows: 71.75\n",
      "Minimun marks are in math\n",
      "Maximum marks are in biology\n"
     ]
    }
   ],
   "source": [
    "def percentage(total_marks,full_marks):\n",
    "    return total_marks*100/full_marks\n",
    "def showDetails(**kwargs):\n",
    "    print(f\"Hello {kwargs['name']}\")\n",
    "    print(f\"Here is your result for class of {kwargs['Class']}.\")\n",
    "    print(f\"Your score card is as follows\")\n",
    "    print(f\"Class Marks:\")\n",
    "    total_marks=0\n",
    "    for key,val in kwargs['marks'].items():\n",
    "          print(f\"\\t{key}:{val}\")\n",
    "          total_marks+=val\n",
    "    print(f\"Total marks are: {total_marks}\")\n",
    "    print(f\"Percentage is as follows:\",percentage(total_marks,400))\n",
    "    marks=[]\n",
    "    for i in kwargs['marks'].values():\n",
    "          marks.append(i)\n",
    "    for i,j in kwargs['marks'].items():\n",
    "          if j==max(marks):\n",
    "              print(f\"Maximum marks are in {i}\")\n",
    "          if j==min(marks):\n",
    "              print(f\"Minimun marks are in {i}\")\n",
    "    print(\"you are promoted to next class\")\n",
    "showDetails(name = \"Ali\", Class = \"AI\", marks = {\"math\" : 50, \"physics\" : 80, \"biology\" : 90, \"computer\" : 67}, date = \"1 Feb 2020\", nextClass = True)"
   ]
  },
  {
   "cell_type": "code",
   "execution_count": null,
   "metadata": {},
   "outputs": [],
   "source": []
  }
 ],
 "metadata": {
  "kernelspec": {
   "display_name": "Python 3",
   "language": "python",
   "name": "python3"
  },
  "language_info": {
   "codemirror_mode": {
    "name": "ipython",
    "version": 3
   },
   "file_extension": ".py",
   "mimetype": "text/x-python",
   "name": "python",
   "nbconvert_exporter": "python",
   "pygments_lexer": "ipython3",
   "version": "3.7.4"
  }
 },
 "nbformat": 4,
 "nbformat_minor": 2
}
