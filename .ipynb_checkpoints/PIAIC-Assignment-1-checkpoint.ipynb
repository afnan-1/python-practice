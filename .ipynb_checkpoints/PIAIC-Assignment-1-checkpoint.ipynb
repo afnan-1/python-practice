{
 "cells": [
  {
   "cell_type": "code",
   "execution_count": 1,
   "metadata": {},
   "outputs": [],
   "source": [
    "name = 'afnan'\n",
    "age = 21\n",
    "uni_name = 'GCUF'\n",
    "Class = 'BSCS-5'"
   ]
  },
  {
   "cell_type": "code",
   "execution_count": 3,
   "metadata": {},
   "outputs": [
    {
     "name": "stdout",
     "output_type": "stream",
     "text": [
      "Hello afnan\n",
      "Your application is accepted for artificial intelligence in GCUF\n",
      "your age is 21\n",
      "your class is BSCS-5\n"
     ]
    }
   ],
   "source": [
    "print(f\"Hello {name}\")\n",
    "print(f\"Your application is accepted for artificial intelligence in {uni_name}\")\n",
    "print(f\"your age is {age}\")\n",
    "print(f\"your class is {Class}\")"
   ]
  },
  {
   "cell_type": "code",
   "execution_count": null,
   "metadata": {},
   "outputs": [],
   "source": []
  }
 ],
 "metadata": {
  "kernelspec": {
   "display_name": "Python 3",
   "language": "python",
   "name": "python3"
  },
  "language_info": {
   "codemirror_mode": {
    "name": "ipython",
    "version": 3
   },
   "file_extension": ".py",
   "mimetype": "text/x-python",
   "name": "python",
   "nbconvert_exporter": "python",
   "pygments_lexer": "ipython3",
   "version": "3.7.4"
  }
 },
 "nbformat": 4,
 "nbformat_minor": 2
}
